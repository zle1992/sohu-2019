{
 "cells": [
  {
   "cell_type": "code",
   "execution_count": 1,
   "metadata": {},
   "outputs": [],
   "source": [
    "import pandas as pd"
   ]
  },
  {
   "cell_type": "code",
   "execution_count": 83,
   "metadata": {},
   "outputs": [],
   "source": [
    "df =pd.read_pickle('../data2/coreEntityEmotion_train.txt.pick')"
   ]
  },
  {
   "cell_type": "code",
   "execution_count": 84,
   "metadata": {},
   "outputs": [
    {
     "data": {
      "text/plain": [
       "(41305, 7)"
      ]
     },
     "execution_count": 84,
     "metadata": {},
     "output_type": "execute_result"
    }
   ],
   "source": [
    "df.shape"
   ]
  },
  {
   "cell_type": "code",
   "execution_count": 78,
   "metadata": {
    "scrolled": true
   },
   "outputs": [],
   "source": [
    "text = df.head().content[0]"
   ]
  },
  {
   "cell_type": "code",
   "execution_count": 79,
   "metadata": {},
   "outputs": [],
   "source": [
    "lenth=450\n",
    "res = []\n",
    "textArr=[]\n",
    "i =0\n",
    "if len(text)>lenth:\n",
    "    t_list = re.split(r'[。！？]+', text)\n",
    "    for tt in t_list:\n",
    "        if len('。'.join(res))+len(tt)<lenth:\n",
    "            res.append(tt)\n",
    "        else:\n",
    "            textArr.append('。'.join(res))\n",
    "            res =[tt]\n",
    "else:\n",
    "    t_list = re.split(r'[。！？]+', text)\n",
    "    textArr = ['。'.join(t_list)]\n",
    "\n"
   ]
  },
  {
   "cell_type": "code",
   "execution_count": 80,
   "metadata": {
    "scrolled": true
   },
   "outputs": [
    {
     "data": {
      "text/plain": [
       "['第十七届上海国际工业自动化及机器人展与上海智能工厂展览会于年月日圆满落下帷幕。展会展出规模平方米，国内外参展厂商达多家，并吸引超过名专业观众前来参观。此次展会全面展示了工业自动化技术，工业装配与传输技术、工业机器人整机与零部件、机器视觉工业应用、无人搬运、智慧工厂解决方案、工业自动化全面解决方案等产品领域。无论是展会规模、展示范围以及专业观众的人数，都实现了快速的增长，极大地推动了我国制造业的转型升级和跨越发展。誉洋机器视觉引发展会参观热潮在大连誉洋工业智能的展位，机器人自动抓取物件让人眼前一亮。机器人在视觉的引导下精准定位杂乱无序的目标，并实现准确快速抓取，整个过程井然有序，无需任何人工干预。誉洋现场工程师介绍，制造企业采用誉洋机器视觉系统，以往繁琐、枯燥的物料搬运工作交给了机器人，这样不但解放了人力，还提升了物流效率。这套机器视觉已在国内多家知名企业成功实施应用，得到了一致认可与好评']"
      ]
     },
     "execution_count": 80,
     "metadata": {},
     "output_type": "execute_result"
    }
   ],
   "source": [
    "textArr"
   ]
  },
  {
   "cell_type": "code",
   "execution_count": null,
   "metadata": {},
   "outputs": [],
   "source": []
  },
  {
   "cell_type": "code",
   "execution_count": 81,
   "metadata": {},
   "outputs": [],
   "source": [
    "df1= pd.read_pickle('../data2/coreEntityEmotion_train.agg.pick')"
   ]
  },
  {
   "cell_type": "code",
   "execution_count": 82,
   "metadata": {},
   "outputs": [
    {
     "data": {
      "text/html": [
       "<div>\n",
       "<style scoped>\n",
       "    .dataframe tbody tr th:only-of-type {\n",
       "        vertical-align: middle;\n",
       "    }\n",
       "\n",
       "    .dataframe tbody tr th {\n",
       "        vertical-align: top;\n",
       "    }\n",
       "\n",
       "    .dataframe thead th {\n",
       "        text-align: right;\n",
       "    }\n",
       "</style>\n",
       "<table border=\"1\" class=\"dataframe\">\n",
       "  <thead>\n",
       "    <tr style=\"text-align: right;\">\n",
       "      <th></th>\n",
       "      <th>newsId</th>\n",
       "      <th>title</th>\n",
       "      <th>content</th>\n",
       "      <th>entity</th>\n",
       "      <th>emotion</th>\n",
       "      <th>texts</th>\n",
       "    </tr>\n",
       "  </thead>\n",
       "  <tbody>\n",
       "    <tr>\n",
       "      <th>0</th>\n",
       "      <td>4e36d02a</td>\n",
       "      <td>智慧工厂展，誉洋以“智”取胜</td>\n",
       "      <td>第十七届上海国际工业自动化及机器人展与上海智能工厂展览会于年月日圆满落下帷幕。展会展出规模平...</td>\n",
       "      <td>3d,工业,机器视觉</td>\n",
       "      <td>POS,POS,POS</td>\n",
       "      <td>智慧工厂展，誉洋以“智”取胜。第十七届上海国际工业自动化及机器人展与上海智能工厂展览会于年月...</td>\n",
       "    </tr>\n",
       "    <tr>\n",
       "      <th>1</th>\n",
       "      <td>cb8e8b79</td>\n",
       "      <td>大数据可视化应用领域探析</td>\n",
       "      <td>大数据之热度，已无需多言。业内众多关于大数据可视化应用领域的声音与讨论，大多集中在行业领域和...</td>\n",
       "      <td>数据,卫星,可视化</td>\n",
       "      <td>POS,POS,POS</td>\n",
       "      <td>大数据可视化应用领域探析。大数据之热度，已无需多言。业内众多关于大数据可视化应用领域的声音与...</td>\n",
       "    </tr>\n",
       "    <tr>\n",
       "      <th>2</th>\n",
       "      <td>cb8e8b79</td>\n",
       "      <td>大数据可视化应用领域探析</td>\n",
       "      <td>案例：全球航班运行可视化全球航班运行可视化系统，通过将某一时段全球运行航班的飞行数据进行可视...</td>\n",
       "      <td>数据,卫星,可视化</td>\n",
       "      <td>POS,POS,POS</td>\n",
       "      <td>大数据可视化应用领域探析。案例：全球航班运行可视化全球航班运行可视化系统，通过将某一时段全球...</td>\n",
       "    </tr>\n",
       "    <tr>\n",
       "      <th>3</th>\n",
       "      <td>cb8e8b79</td>\n",
       "      <td>大数据可视化应用领域探析</td>\n",
       "      <td>案例：卫星运行可视化卫星可视化可以了解大范围卫星态势，并对卫星的轨道、在轨姿态、卫星所执行的...</td>\n",
       "      <td>数据,卫星,可视化</td>\n",
       "      <td>POS,POS,POS</td>\n",
       "      <td>大数据可视化应用领域探析。案例：卫星运行可视化卫星可视化可以了解大范围卫星态势，并对卫星的轨...</td>\n",
       "    </tr>\n",
       "    <tr>\n",
       "      <th>4</th>\n",
       "      <td>f85c18e2</td>\n",
       "      <td>大车发大财的时代一去不返？货运行业还有春天吗？</td>\n",
       "      <td>过年期间和一些搞运输的老朋友聊天，大家始终绕不开的一个话题：“如今物流行业越来越难干了。”想...</td>\n",
       "      <td>物流,货运,信息</td>\n",
       "      <td>POS,NEG,POS</td>\n",
       "      <td>大车发大财的时代一去不返？货运行业还有春天吗？。过年期间和一些搞运输的老朋友聊天，大家始终绕...</td>\n",
       "    </tr>\n",
       "  </tbody>\n",
       "</table>\n",
       "</div>"
      ],
      "text/plain": [
       "     newsId                    title  \\\n",
       "0  4e36d02a           智慧工厂展，誉洋以“智”取胜   \n",
       "1  cb8e8b79             大数据可视化应用领域探析   \n",
       "2  cb8e8b79             大数据可视化应用领域探析   \n",
       "3  cb8e8b79             大数据可视化应用领域探析   \n",
       "4  f85c18e2  大车发大财的时代一去不返？货运行业还有春天吗？   \n",
       "\n",
       "                                             content      entity      emotion  \\\n",
       "0  第十七届上海国际工业自动化及机器人展与上海智能工厂展览会于年月日圆满落下帷幕。展会展出规模平...  3d,工业,机器视觉  POS,POS,POS   \n",
       "1  大数据之热度，已无需多言。业内众多关于大数据可视化应用领域的声音与讨论，大多集中在行业领域和...   数据,卫星,可视化  POS,POS,POS   \n",
       "2  案例：全球航班运行可视化全球航班运行可视化系统，通过将某一时段全球运行航班的飞行数据进行可视...   数据,卫星,可视化  POS,POS,POS   \n",
       "3  案例：卫星运行可视化卫星可视化可以了解大范围卫星态势，并对卫星的轨道、在轨姿态、卫星所执行的...   数据,卫星,可视化  POS,POS,POS   \n",
       "4  过年期间和一些搞运输的老朋友聊天，大家始终绕不开的一个话题：“如今物流行业越来越难干了。”想...    物流,货运,信息  POS,NEG,POS   \n",
       "\n",
       "                                               texts  \n",
       "0  智慧工厂展，誉洋以“智”取胜。第十七届上海国际工业自动化及机器人展与上海智能工厂展览会于年月...  \n",
       "1  大数据可视化应用领域探析。大数据之热度，已无需多言。业内众多关于大数据可视化应用领域的声音与...  \n",
       "2  大数据可视化应用领域探析。案例：全球航班运行可视化全球航班运行可视化系统，通过将某一时段全球...  \n",
       "3  大数据可视化应用领域探析。案例：卫星运行可视化卫星可视化可以了解大范围卫星态势，并对卫星的轨...  \n",
       "4  大车发大财的时代一去不返？货运行业还有春天吗？。过年期间和一些搞运输的老朋友聊天，大家始终绕...  "
      ]
     },
     "execution_count": 82,
     "metadata": {},
     "output_type": "execute_result"
    }
   ],
   "source": [
    "df1.head()"
   ]
  },
  {
   "cell_type": "code",
   "execution_count": null,
   "metadata": {},
   "outputs": [],
   "source": []
  }
 ],
 "metadata": {
  "kernelspec": {
   "display_name": "Python 3",
   "language": "python",
   "name": "python3"
  },
  "language_info": {
   "codemirror_mode": {
    "name": "ipython",
    "version": 3
   },
   "file_extension": ".py",
   "mimetype": "text/x-python",
   "name": "python",
   "nbconvert_exporter": "python",
   "pygments_lexer": "ipython3",
   "version": "3.6.8"
  }
 },
 "nbformat": 4,
 "nbformat_minor": 2
}
